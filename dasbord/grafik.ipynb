{
 "cells": [
  {
   "cell_type": "code",
   "execution_count": null,
   "metadata": {},
   "outputs": [
    {
     "name": "stdout",
     "output_type": "stream",
     "text": [
      "File C:\\Users\\ADVAN\\Documents\\data_siswa.csv tidak ditemukan.\n"
     ]
    }
   ],
   "source": [
    "# script.py\n",
    "import pandas as pd\n",
    "import matplotlib.pyplot as plt\n",
    "import os\n",
    "file_path = \"C:\\\\Pengguna\\\\ADVAN\\\\Dokumen\\\\Data_baru.xlsx\"\n",
    "if os.path.exists(file_path):\n",
    "    print(\"File ditemukan.\")\n",
    "else:\n",
    "    print(\"File tidak ditemukan.\")\n",
    "\n",
    "\n",
    "data = pd.read_excel(file_path)\n",
    "jumlah_siswa_per_sekolah = data['sekolah'].value_counts()\n",
    "plt.figure(figsize=(10, 5))\n",
    "plt.barh(jumlah_siswa_per_sekolah.index, jumlah_siswa_per_sekolah.values, color='b')\n",
    "plt.title(\"Jumlah Siswa Berdasarkan Asal Sekolah\").set_visible(False)\n",
    "plt.xlabel(\"Jumlah Siswa\")\n",
    "plt.xlim(0, 18)\n",
    "plt.ylabel(\"Asal Sekolah\")\n",
    "plt.tight_layout()\n",
    "plt.gca().spines['right'].set_visible(False)\n",
    "plt.gca().spines['top'].set_visible(False)\n",
    "plt.margins(y=0)\n",
    "plt.savefig(\"jumlah_siswa.png\")"
   ]
  },
  {
   "cell_type": "code",
   "execution_count": null,
   "metadata": {},
   "outputs": [],
   "source": []
  },
  {
   "cell_type": "code",
   "execution_count": null,
   "metadata": {},
   "outputs": [],
   "source": []
  }
 ],
 "metadata": {
  "kernelspec": {
   "display_name": "Python 3",
   "language": "python",
   "name": "python3"
  },
  "language_info": {
   "codemirror_mode": {
    "name": "ipython",
    "version": 3
   },
   "file_extension": ".py",
   "mimetype": "text/x-python",
   "name": "python",
   "nbconvert_exporter": "python",
   "pygments_lexer": "ipython3",
   "version": "3.11.5"
  }
 },
 "nbformat": 4,
 "nbformat_minor": 2
}
